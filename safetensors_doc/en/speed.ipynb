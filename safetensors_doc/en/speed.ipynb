{
  "cells": [
    {
      "cell_type": "markdown",
      "metadata": {
        "id": "view-in-github",
        "colab_type": "text"
      },
      "source": [
        "<a href=\"https://colab.research.google.com/github/hirokokanoh/RStanBook/blob/master/safetensors_doc/en/speed.ipynb\" target=\"_parent\"><img src=\"https://colab.research.google.com/assets/colab-badge.svg\" alt=\"Open In Colab\"/></a>"
      ]
    },
    {
      "cell_type": "markdown",
      "metadata": {
        "id": "juYQ3wWlTeY-"
      },
      "source": [
        "<!-- DISABLE-FRONTMATTER-SECTIONS -->"
      ]
    },
    {
      "cell_type": "markdown",
      "metadata": {
        "id": "qMsemKbLTeY_"
      },
      "source": [
        "# Speed Comparison"
      ]
    },
    {
      "cell_type": "markdown",
      "metadata": {
        "id": "kGVopSTwTeZA"
      },
      "source": [
        "`Safetensors` is really fast. Let's compare it against `PyTorch` by loading [gpt2](https://huggingface.co/gpt2) weights. To run the [GPU benchmark](#gpu-benchmark), make sure your machine has GPU or you have selected `GPU runtime` if you are using Google Colab.\n",
        "\n",
        "Before you begin, make sure you have all the necessary libraries installed:"
      ]
    },
    {
      "cell_type": "code",
      "execution_count": null,
      "metadata": {
        "id": "m5E_Ql_LTeZA"
      },
      "outputs": [],
      "source": [
        "!pip install safetensors huggingface_hub torch"
      ]
    },
    {
      "cell_type": "markdown",
      "metadata": {
        "id": "GH9kIp6XTeZB"
      },
      "source": [
        "Let's start by importing all the packages that will be used:"
      ]
    },
    {
      "cell_type": "code",
      "execution_count": null,
      "metadata": {
        "id": "F7pc33buTeZB"
      },
      "outputs": [],
      "source": [
        "import os\n",
        "import datetime\n",
        "from huggingface_hub import hf_hub_download\n",
        "from safetensors.torch import load_file\n",
        "import torch"
      ]
    },
    {
      "cell_type": "markdown",
      "metadata": {
        "id": "ZbBumTHxTeZB"
      },
      "source": [
        "Download safetensors & torch weights for gpt2:"
      ]
    },
    {
      "cell_type": "code",
      "execution_count": null,
      "metadata": {
        "id": "wY5bvxDxTeZB"
      },
      "outputs": [],
      "source": [
        "sf_filename = hf_hub_download(\"gpt2\", filename=\"model.safetensors\")\n",
        "pt_filename = hf_hub_download(\"gpt2\", filename=\"pytorch_model.bin\")"
      ]
    },
    {
      "cell_type": "markdown",
      "metadata": {
        "id": "m2v8_jyRTeZB"
      },
      "source": [
        "### CPU benchmark"
      ]
    },
    {
      "cell_type": "code",
      "execution_count": null,
      "metadata": {
        "id": "VGORSAEsTeZB",
        "outputId": "5db45895-8b3e-4968-c317-a6b02f42a8be"
      },
      "outputs": [
        {
          "data": {
            "text/plain": [
              "Loaded safetensors 0:00:00.004015\n",
              "Loaded pytorch 0:00:00.307460\n",
              "on CPU, safetensors is faster than pytorch by: 76.6 X"
            ]
          },
          "execution_count": null,
          "metadata": {},
          "output_type": "execute_result"
        }
      ],
      "source": [
        "start_st = datetime.datetime.now()\n",
        "weights = load_file(sf_filename, device=\"cpu\")\n",
        "load_time_st = datetime.datetime.now() - start_st\n",
        "print(f\"Loaded safetensors {load_time_st}\")\n",
        "\n",
        "start_pt = datetime.datetime.now()\n",
        "weights = torch.load(pt_filename, map_location=\"cpu\")\n",
        "load_time_pt = datetime.datetime.now() - start_pt\n",
        "print(f\"Loaded pytorch {load_time_pt}\")\n",
        "\n",
        "print(f\"on CPU, safetensors is faster than pytorch by: {load_time_pt/load_time_st:.1f} X\")"
      ]
    },
    {
      "cell_type": "markdown",
      "metadata": {
        "id": "oOndU8GFTeZC"
      },
      "source": [
        "This speedup is due to the fact that this library avoids unnecessary copies by mapping the file directly. It is actually possible to do on [pure pytorch](https://gist.github.com/Narsil/3edeec2669a5e94e4707aa0f901d2282).\n",
        "The currently shown speedup was gotten on:\n",
        "* OS: Ubuntu 18.04.6 LTS\n",
        "* CPU: Intel(R) Xeon(R) CPU @ 2.00GHz"
      ]
    },
    {
      "cell_type": "markdown",
      "metadata": {
        "id": "MAJXfSWMTeZC"
      },
      "source": [
        "### GPU benchmark"
      ]
    },
    {
      "cell_type": "code",
      "execution_count": null,
      "metadata": {
        "id": "P4P8iyKZTeZC",
        "outputId": "19fe6b97-0c3b-4989-b212-b4f2703d1916"
      },
      "outputs": [
        {
          "data": {
            "text/plain": [
              "Loaded safetensors 0:00:00.165206\n",
              "Loaded pytorch 0:00:00.353889\n",
              "on GPU, safetensors is faster than pytorch by: 2.1 X"
            ]
          },
          "execution_count": null,
          "metadata": {},
          "output_type": "execute_result"
        }
      ],
      "source": [
        "# This is required because this feature hasn't been fully verified yet, but\n",
        "# it's been tested on many different environments\n",
        "os.environ[\"SAFETENSORS_FAST_GPU\"] = \"1\"\n",
        "\n",
        "# CUDA startup out of the measurement\n",
        "torch.zeros((2, 2)).cuda()\n",
        "\n",
        "start_st = datetime.datetime.now()\n",
        "weights = load_file(sf_filename, device=\"cuda:0\")\n",
        "load_time_st = datetime.datetime.now() - start_st\n",
        "print(f\"Loaded safetensors {load_time_st}\")\n",
        "\n",
        "start_pt = datetime.datetime.now()\n",
        "weights = torch.load(pt_filename, map_location=\"cuda:0\")\n",
        "load_time_pt = datetime.datetime.now() - start_pt\n",
        "print(f\"Loaded pytorch {load_time_pt}\")\n",
        "\n",
        "print(f\"on GPU, safetensors is faster than pytorch by: {load_time_pt/load_time_st:.1f} X\")"
      ]
    },
    {
      "cell_type": "markdown",
      "metadata": {
        "id": "o_M-lOT2TeZD"
      },
      "source": [
        "The speedup works because this library is able to skip unecessary CPU allocations. It is unfortunately not replicable in pure pytorch as far as we know. The library works by memory mapping the file, creating the tensor empty with pytorch and calling `cudaMemcpy` directly to move the tensor directly on the GPU.\n",
        "The currently shown speedup was gotten on:\n",
        "* OS: Ubuntu 18.04.6 LTS.\n",
        "* GPU: Tesla T4\n",
        "* Driver Version: 460.32.03\n",
        "* CUDA Version: 11.2"
      ]
    }
  ],
  "metadata": {
    "language_info": {
      "name": "python"
    },
    "colab": {
      "provenance": [],
      "include_colab_link": true
    },
    "kernelspec": {
      "name": "python3",
      "display_name": "Python 3"
    }
  },
  "nbformat": 4,
  "nbformat_minor": 0
}